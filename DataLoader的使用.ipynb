{
 "cells": [
  {
   "cell_type": "markdown",
   "id": "c783e2a3",
   "metadata": {},
   "source": [
    "DataLoader(dataset, batch_size=1, shuffle=False, sampler=None,\n",
    "           batch_sampler=None, num_workers=0, collate_fn=None,\n",
    "           pin_memory=False, drop_last=False, timeout=0,\n",
    "           worker_init_fn=None, *, prefetch_factor=2,\n",
    "           persistent_workers=False)"
   ]
  },
  {
   "cell_type": "markdown",
   "id": "48b09bb7",
   "metadata": {},
   "source": [
    "batch_Size:每次取多少个\n",
    "\n",
    "shuffle：是否打乱\n",
    "\n",
    "drop_last:分到最后不足一batch_size时是否舍去。\n",
    "\n"
   ]
  },
  {
   "cell_type": "code",
   "execution_count": 28,
   "id": "ca5d84b2",
   "metadata": {},
   "outputs": [],
   "source": [
    "import torchvision\n",
    "from torch.utils.data import DataLoader\n",
    "from torch.utils.tensorboard import SummaryWriter"
   ]
  },
  {
   "cell_type": "code",
   "execution_count": 29,
   "id": "edf09bc9",
   "metadata": {},
   "outputs": [],
   "source": [
    "test_set=torchvision.datasets.CIFAR10(root=r\"C:\\Users\\97962\\Desktop\\CIFAR10\\cifar-10-python\",train=False,transform=torchvision.transforms.ToTensor(), download=False)"
   ]
  },
  {
   "cell_type": "code",
   "execution_count": 30,
   "id": "c27e4a0a",
   "metadata": {},
   "outputs": [],
   "source": [
    "data_loader=DataLoader(dataset=test_set,batch_size=64,shuffle=True,drop_last=False)"
   ]
  },
  {
   "cell_type": "code",
   "execution_count": 31,
   "id": "7f941a7a",
   "metadata": {},
   "outputs": [],
   "source": [
    "writer=SummaryWriter('dataloader')\n",
    "step=0\n",
    "for data in data_loader:\n",
    "    imgs,targets=data\n",
    "    writer.add_images('data', imgs,step)\n",
    "    step+=1\n",
    "writer.close()\n"
   ]
  }
 ],
 "metadata": {
  "kernelspec": {
   "display_name": "Python 3 (ipykernel)",
   "language": "python",
   "name": "python3"
  },
  "language_info": {
   "codemirror_mode": {
    "name": "ipython",
    "version": 3
   },
   "file_extension": ".py",
   "mimetype": "text/x-python",
   "name": "python",
   "nbconvert_exporter": "python",
   "pygments_lexer": "ipython3",
   "version": "3.9.13"
  }
 },
 "nbformat": 4,
 "nbformat_minor": 5
}
