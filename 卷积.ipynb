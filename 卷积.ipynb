{
 "cells": [
  {
   "cell_type": "code",
   "execution_count": 34,
   "id": "bff8e87a",
   "metadata": {},
   "outputs": [],
   "source": [
    "import torch\n",
    "import torchvision\n",
    "from torch.utils.data import DataLoader\n",
    "import torch.nn.functional as F\n",
    "from torch.nn import Conv2d\n",
    "from torch import nn\n",
    "from torch.utils.tensorboard import SummaryWriter"
   ]
  },
  {
   "cell_type": "code",
   "execution_count": 5,
   "id": "cd24db0b",
   "metadata": {},
   "outputs": [],
   "source": [
    "input = torch.tensor([[1,2,0,3,1], [0,1,2,3,1], [1,2,1,0,0],\n",
    "                     [5,2,3,1,1],\n",
    "                     [2,1,0,1,1]])"
   ]
  },
  {
   "cell_type": "code",
   "execution_count": 6,
   "id": "ad8b7da5",
   "metadata": {},
   "outputs": [],
   "source": [
    "kernel=torch.tensor([[1,2,1],[0,1,0], [2,1,0]])"
   ]
  },
  {
   "cell_type": "code",
   "execution_count": 7,
   "id": "cc5f1596",
   "metadata": {},
   "outputs": [],
   "source": [
    "input=torch.reshape(input,(1,1,5,5))\n",
    "kernel=torch.reshape(kernel,(1,1,3,3))"
   ]
  },
  {
   "cell_type": "code",
   "execution_count": 11,
   "id": "85894305",
   "metadata": {},
   "outputs": [
    {
     "data": {
      "text/plain": [
       "tensor([[[[10, 12, 12],\n",
       "          [18, 16, 16],\n",
       "          [13,  9,  3]]]])"
      ]
     },
     "execution_count": 11,
     "metadata": {},
     "output_type": "execute_result"
    }
   ],
   "source": [
    "output=F.conv2d(input,kernel,stride=1)\n",
    "output"
   ]
  },
  {
   "cell_type": "code",
   "execution_count": 12,
   "id": "cf15af5d",
   "metadata": {},
   "outputs": [
    {
     "data": {
      "text/plain": [
       "tensor([[[[ 1,  3,  4, 10,  8],\n",
       "          [ 5, 10, 12, 12,  6],\n",
       "          [ 7, 18, 16, 16,  8],\n",
       "          [11, 13,  9,  3,  4],\n",
       "          [14, 13,  9,  7,  4]]]])"
      ]
     },
     "execution_count": 12,
     "metadata": {},
     "output_type": "execute_result"
    }
   ],
   "source": [
    "output=F.conv2d(input,kernel,stride=1,padding=1) #填充.\n",
    "output"
   ]
  },
  {
   "cell_type": "code",
   "execution_count": 14,
   "id": "72ba8d51",
   "metadata": {},
   "outputs": [],
   "source": [
    "dataset=torchvision.datasets.CIFAR10(root=r\"C:\\Users\\97962\\Desktop\\CIFAR10\\cifar-10-python\",train=False,transform=torchvision.transforms.ToTensor(),download=False)"
   ]
  },
  {
   "cell_type": "code",
   "execution_count": 19,
   "id": "1ab6343b",
   "metadata": {},
   "outputs": [],
   "source": [
    "dataloader=DataLoader(dataset,batch_size=64)"
   ]
  },
  {
   "cell_type": "code",
   "execution_count": 40,
   "id": "f960e62d",
   "metadata": {},
   "outputs": [],
   "source": [
    "class why(nn.Module):\n",
    "    def __init__(self):\n",
    "        super(why,self).__init__()\n",
    "        self.conv1=Conv2d(in_channels=3,out_channels=6,kernel_size=3,stride=1)\n",
    "    def forward(self,x):\n",
    "        x=self.conv1(x)\n",
    "        return x\n",
    "writer=SummaryWriter('fuck')\n",
    "model=why()\n",
    "step=0\n",
    "for data in dataloader:\n",
    "    imgs,targets= data\n",
    "    output=model(imgs)\n",
    "    output=torch.reshape(output,(-1,3,30,30))\n",
    "    writer.add_images('wangjianbin',output,step)\n",
    "    step+=1\n",
    "writer.close()\n",
    "\n",
    "    \n",
    "    \n",
    "        "
   ]
  }
 ],
 "metadata": {
  "kernelspec": {
   "display_name": "Python 3 (ipykernel)",
   "language": "python",
   "name": "python3"
  },
  "language_info": {
   "codemirror_mode": {
    "name": "ipython",
    "version": 3
   },
   "file_extension": ".py",
   "mimetype": "text/x-python",
   "name": "python",
   "nbconvert_exporter": "python",
   "pygments_lexer": "ipython3",
   "version": "3.9.13"
  }
 },
 "nbformat": 4,
 "nbformat_minor": 5
}
